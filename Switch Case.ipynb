{
  "nbformat": 4,
  "nbformat_minor": 0,
  "metadata": {
    "kernelspec": {
      "display_name": "Python 3 (system-wide)",
      "language": "python",
      "metadata": {
        "cocalc": {
          "description": "Python 3 programming language",
          "priority": 100,
          "url": "https://www.python.org/"
        }
      },
      "name": "python3"
    },
    "language_info": {
      "codemirror_mode": {
        "name": "ipython",
        "version": 3
      },
      "file_extension": ".py",
      "mimetype": "text/x-python",
      "name": "python",
      "nbconvert_exporter": "python",
      "pygments_lexer": "ipython3",
      "version": "3.6.9"
    },
    "colab": {
      "name": "Switch case.ipynb",
      "provenance": []
    }
  },
  "cells": [
    {
      "cell_type": "markdown",
      "metadata": {
        "collapsed": false,
        "id": "9041ZfAfLpD9"
      },
      "source": [
        "### Switch Case :- Switch-case statement is a powerful programming feature that allows you control the flow of your program based on the value of a variable or an expression."
      ]
    },
    {
      "cell_type": "code",
      "metadata": {
        "id": "HM1JHQ4BLpEA"
      },
      "source": [
        "def days_of_week(day):\n",
        "    \n",
        "    switch ={\n",
        "        1: 'Monday',\n",
        "        2: 'Tuesday',\n",
        "        3: 'Wednesday',\n",
        "        4: 'Thursday',\n",
        "        5: 'Friday',\n",
        "        6: 'Saturday',\n",
        "        7: 'Sunday'\n",
        "    }\n",
        "    \n",
        "    return switch.get(day,\"Invalid day \")"
      ],
      "execution_count": null,
      "outputs": []
    },
    {
      "cell_type": "code",
      "metadata": {
        "id": "-_fP3CDBLpEH",
        "outputId": "6dcd0a3c-8190-40d9-a683-2550a4e1b0c4",
        "colab": {
          "base_uri": "https://localhost:8080/",
          "height": 34
        }
      },
      "source": [
        "print( days_of_week(5))"
      ],
      "execution_count": null,
      "outputs": [
        {
          "output_type": "stream",
          "text": [
            "Friday\n"
          ],
          "name": "stdout"
        }
      ]
    },
    {
      "cell_type": "code",
      "metadata": {
        "id": "kjVL4hPrLpEN",
        "outputId": "5fa4f4b9-a58c-4fb6-b6ca-f9442009039b",
        "colab": {
          "base_uri": "https://localhost:8080/",
          "height": 34
        }
      },
      "source": [
        "print( days_of_week(2))"
      ],
      "execution_count": null,
      "outputs": [
        {
          "output_type": "stream",
          "text": [
            "Tuesday\n"
          ],
          "name": "stdout"
        }
      ]
    },
    {
      "cell_type": "code",
      "metadata": {
        "id": "HF-qhA-JLpEQ",
        "outputId": "c5846333-2af9-4d41-e741-e9c28d1c3b21",
        "colab": {
          "base_uri": "https://localhost:8080/",
          "height": 34
        }
      },
      "source": [
        "print( days_of_week(10))"
      ],
      "execution_count": null,
      "outputs": [
        {
          "output_type": "stream",
          "text": [
            "Invalid day \n"
          ],
          "name": "stdout"
        }
      ]
    },
    {
      "cell_type": "code",
      "metadata": {
        "id": "Q4Yu7WO-LpET"
      },
      "source": [
        "def calculate(n1, n2, operator):\n",
        "    switch ={\n",
        "        '+': lambda n1,n2: n1+n2,\n",
        "        '-': lambda n1,n2: n1-n2,\n",
        "        '*': lambda n1,n2: n1*n2,\n",
        "        '/': lambda n1,n2: n1/n2,\n",
        "    }\n",
        "    return switch.get(operator)(n1,n2)"
      ],
      "execution_count": null,
      "outputs": []
    },
    {
      "cell_type": "code",
      "metadata": {
        "id": "j5i1K6LpLpEV",
        "outputId": "a19f5ff9-1138-48bd-866b-cfd3fcbcba2d",
        "colab": {
          "base_uri": "https://localhost:8080/",
          "height": 34
        }
      },
      "source": [
        "print( calculate(10,20,'+'))"
      ],
      "execution_count": null,
      "outputs": [
        {
          "output_type": "stream",
          "text": [
            "30\n"
          ],
          "name": "stdout"
        }
      ]
    },
    {
      "cell_type": "code",
      "metadata": {
        "id": "ISxESsHoLpEZ",
        "outputId": "d01256c2-2590-4460-be5b-57f7baaf5706",
        "colab": {
          "base_uri": "https://localhost:8080/",
          "height": 34
        }
      },
      "source": [
        "print( calculate(30,40,'-'))"
      ],
      "execution_count": null,
      "outputs": [
        {
          "output_type": "stream",
          "text": [
            "-10\n"
          ],
          "name": "stdout"
        }
      ]
    },
    {
      "cell_type": "code",
      "metadata": {
        "id": "WoF5ho8ZLpEc",
        "outputId": "a21c50a7-b4cc-43c4-dce3-d60d21c1ffbd",
        "colab": {
          "base_uri": "https://localhost:8080/",
          "height": 34
        }
      },
      "source": [
        "print( calculate(30,40,'*'))"
      ],
      "execution_count": null,
      "outputs": [
        {
          "output_type": "stream",
          "text": [
            "1200\n"
          ],
          "name": "stdout"
        }
      ]
    },
    {
      "cell_type": "code",
      "metadata": {
        "id": "yOq2XdIRLpEh",
        "outputId": "c2e89dc0-044a-4572-eb80-90f4b0059e6a",
        "colab": {
          "base_uri": "https://localhost:8080/",
          "height": 34
        }
      },
      "source": [
        "print( calculate(10,20,'/'))"
      ],
      "execution_count": null,
      "outputs": [
        {
          "output_type": "stream",
          "text": [
            "0.5\n"
          ],
          "name": "stdout"
        }
      ]
    }
  ]
}