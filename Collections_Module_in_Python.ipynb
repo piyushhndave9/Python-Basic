{
 "cells": [
  {
   "cell_type": "markdown",
   "metadata": {
    "colab_type": "text",
    "id": "Q0Oe6aMY84gT"
   },
   "source": [
    "##Collections module implements specialized container datatypes providing alternatives to Python’s general purpose built-in containers, dict, list, set, and tuple."
   ]
  },
  {
   "cell_type": "code",
   "execution_count": null,
   "metadata": {
    "colab": {},
    "colab_type": "code",
    "id": "B2keQBR6BgFc"
   },
   "outputs": [],
   "source": [
    "import collections\n",
    "from collections import Counter"
   ]
  },
  {
   "cell_type": "code",
   "execution_count": null,
   "metadata": {
    "colab": {
     "base_uri": "https://localhost:8080/",
     "height": 34
    },
    "colab_type": "code",
    "id": "vAQH5DV88w_Y",
    "outputId": "d838fc04-752b-4c74-c9cc-d7c0a2143e00"
   },
   "outputs": [],
   "source": [
    "c = Counter(a=4, b=2, c=0, d=-2)\n",
    "print(list(c.elements()))"
   ]
  },
  {
   "cell_type": "code",
   "execution_count": null,
   "metadata": {
    "colab": {
     "base_uri": "https://localhost:8080/",
     "height": 34
    },
    "colab_type": "code",
    "id": "vVj5V4u6B6Ch",
    "outputId": "263a91d6-2978-4333-dbbb-ea372793f44d"
   },
   "outputs": [],
   "source": [
    "List= ['a', 'a', 'a', 'a', 'b', 'b']\n",
    "c = Counter(List)\n",
    "print(c)"
   ]
  },
  {
   "cell_type": "code",
   "execution_count": null,
   "metadata": {
    "colab": {
     "base_uri": "https://localhost:8080/",
     "height": 87
    },
    "colab_type": "code",
    "id": "0VZUoKmnB61W",
    "outputId": "d2408d9a-a3ff-4f9d-ac3b-7af0016fd1cd"
   },
   "outputs": [],
   "source": [
    "My_String = 'MHM Outcome based Education'\n",
    "print(\"Original string: \"+My_String) \n",
    "print(\"\\nMost common characters of My_String:\")\n",
    "print(Counter(My_String).most_common(3))"
   ]
  },
  {
   "cell_type": "code",
   "execution_count": null,
   "metadata": {
    "colab": {
     "base_uri": "https://localhost:8080/",
     "height": 283
    },
    "colab_type": "code",
    "id": "r9bMgMNzB6xP",
    "outputId": "2511fa14-1a42-45f2-f361-b03beb3cda25"
   },
   "outputs": [],
   "source": [
    "from collections import deque\n",
    "dq = deque('MHM Consultancy')\n",
    "for element in dq:\n",
    "   print(element)"
   ]
  },
  {
   "cell_type": "code",
   "execution_count": null,
   "metadata": {
    "colab": {
     "base_uri": "https://localhost:8080/",
     "height": 34
    },
    "colab_type": "code",
    "id": "5SVLZn8lB6tL",
    "outputId": "1ddbf5ea-6bc6-4493-c30c-f91ca3531a58"
   },
   "outputs": [],
   "source": [
    "from collections import Counter\n",
    "import re\n",
    "text = \"\"\"Google LLC is an American multinational technology company that \n",
    "specializes in Internet-related services and products, which include online \n",
    "advertising technologies, a search engine, cloud computing, software, and hardware. \n",
    "It is considered one of the Big Four technology companies alongside \n",
    "Amazon, Apple, and Microsoft\"\"\"  #Wikipedia search text\n",
    "words = re.findall('\\w+',text)\n",
    "print(Counter(words).most_common(5))"
   ]
  },
  {
   "cell_type": "code",
   "execution_count": null,
   "metadata": {
    "colab": {
     "base_uri": "https://localhost:8080/",
     "height": 34
    },
    "colab_type": "code",
    "id": "5Bpa-aCyB6kR",
    "outputId": "c2f80f25-ba5a-43f0-acdc-249e705f15f6"
   },
   "outputs": [],
   "source": [
    "import collections\n",
    "# Create a deque\n",
    "deque_colors = collections.deque([\"white\",\"blue\",\"red\", 'white'])\n",
    "print(deque_colors)"
   ]
  },
  {
   "cell_type": "code",
   "execution_count": null,
   "metadata": {
    "colab": {
     "base_uri": "https://localhost:8080/",
     "height": 34
    },
    "colab_type": "code",
    "id": "1oCT7Tk7B6gp",
    "outputId": "ccd65b28-1ca1-4c24-fca7-7df2f3e24f6d"
   },
   "outputs": [],
   "source": [
    "# Append to the left\n",
    "deque_colors.appendleft(\"black\")\n",
    "print(deque_colors)"
   ]
  },
  {
   "cell_type": "code",
   "execution_count": null,
   "metadata": {
    "colab": {
     "base_uri": "https://localhost:8080/",
     "height": 34
    },
    "colab_type": "code",
    "id": "Y4BNTyawB6cT",
    "outputId": "d4767fb1-3127-4af2-f256-a7658fc9211b"
   },
   "outputs": [],
   "source": [
    "# Append to the right\n",
    "deque_colors.append(\"Orange\")\n",
    "print(deque_colors)"
   ]
  },
  {
   "cell_type": "code",
   "execution_count": null,
   "metadata": {
    "colab": {
     "base_uri": "https://localhost:8080/",
     "height": 70
    },
    "colab_type": "code",
    "id": "CD-af8aqXypV",
    "outputId": "40890abc-69b4-40d7-cc34-747e42de5c1b"
   },
   "outputs": [],
   "source": [
    "cnt = Counter(deque_colors)\n",
    "print(\"\\nMost common element of list:\")\n",
    "print(cnt.most_common(1)[0][0])"
   ]
  },
  {
   "cell_type": "code",
   "execution_count": null,
   "metadata": {
    "colab": {
     "base_uri": "https://localhost:8080/",
     "height": 34
    },
    "colab_type": "code",
    "id": "h_iSZMmSB6To",
    "outputId": "00735539-55f6-4ffa-d3a2-f8f2ffe62629"
   },
   "outputs": [],
   "source": [
    "# Remove from the right\n",
    "deque_colors.pop()\n",
    "print(deque_colors)"
   ]
  },
  {
   "cell_type": "code",
   "execution_count": null,
   "metadata": {
    "colab": {
     "base_uri": "https://localhost:8080/",
     "height": 34
    },
    "colab_type": "code",
    "id": "qZojqCN0B58e",
    "outputId": "e30f7163-a443-436a-d99e-25c5fb40baa0"
   },
   "outputs": [],
   "source": [
    "# Remove from the left\n",
    "deque_colors.popleft()\n",
    "print(deque_colors)"
   ]
  },
  {
   "cell_type": "code",
   "execution_count": null,
   "metadata": {
    "colab": {
     "base_uri": "https://localhost:8080/",
     "height": 34
    },
    "colab_type": "code",
    "id": "IRfl4TJeKDok",
    "outputId": "48b94bf8-88e3-4ab4-87b6-5583ee8de4bb"
   },
   "outputs": [],
   "source": [
    "# Reverse the dequeue\n",
    "deque_colors.reverse()\n",
    "print(deque_colors)"
   ]
  },
  {
   "cell_type": "code",
   "execution_count": null,
   "metadata": {
    "colab": {
     "base_uri": "https://localhost:8080/",
     "height": 52
    },
    "colab_type": "code",
    "id": "qp2jF9ZiKFqJ",
    "outputId": "80c25a71-af63-47a4-f577-2123321ac66a"
   },
   "outputs": [],
   "source": [
    "odd_nums = (3,5,7)\n",
    "print(\"Original tuple:\")\n",
    "print(odd_nums)"
   ]
  },
  {
   "cell_type": "code",
   "execution_count": null,
   "metadata": {
    "colab": {
     "base_uri": "https://localhost:8080/",
     "height": 34
    },
    "colab_type": "code",
    "id": "teVFcpIHOClt",
    "outputId": "d9fd4969-764b-425c-b89c-ddf8039b004c"
   },
   "outputs": [],
   "source": [
    "print(type(odd_nums))"
   ]
  },
  {
   "cell_type": "code",
   "execution_count": null,
   "metadata": {
    "colab": {
     "base_uri": "https://localhost:8080/",
     "height": 70
    },
    "colab_type": "code",
    "id": "TocAoAgRKFl5",
    "outputId": "6b174dc2-6761-43de-b670-25c2ac92c780"
   },
   "outputs": [],
   "source": [
    "odd_nums_deque = collections.deque(odd_nums)\n",
    "print(\"\\nOriginal deque:\")\n",
    "print(odd_nums_deque)"
   ]
  },
  {
   "cell_type": "code",
   "execution_count": null,
   "metadata": {
    "colab": {
     "base_uri": "https://localhost:8080/",
     "height": 52
    },
    "colab_type": "code",
    "id": "IbB_7EizKFgW",
    "outputId": "8a2c4a37-395c-442f-c306-f4755c37f835"
   },
   "outputs": [],
   "source": [
    "odd_nums_deque.append(9)\n",
    "odd_nums_deque.append(11)\n",
    "odd_nums_deque.appendleft(1)\n",
    "print(\"New deque:\")\n",
    "print(odd_nums_deque)"
   ]
  },
  {
   "cell_type": "code",
   "execution_count": null,
   "metadata": {
    "colab": {
     "base_uri": "https://localhost:8080/",
     "height": 34
    },
    "colab_type": "code",
    "id": "RQKXMy_YKFbx",
    "outputId": "8f1ee479-a771-43d4-f321-e00ef967c2f1"
   },
   "outputs": [],
   "source": [
    "print(type(odd_nums_deque))"
   ]
  },
  {
   "cell_type": "code",
   "execution_count": null,
   "metadata": {
    "colab": {
     "base_uri": "https://localhost:8080/",
     "height": 52
    },
    "colab_type": "code",
    "id": "rJwUlJC3V6FI",
    "outputId": "89cf0a50-e7de-4c15-f0c8-fa608357047d"
   },
   "outputs": [],
   "source": [
    "odd_nums_deque.rotate(2)\n",
    "print(\"after positive rotations:\")\n",
    "print(odd_nums_deque)"
   ]
  },
  {
   "cell_type": "code",
   "execution_count": null,
   "metadata": {
    "colab": {
     "base_uri": "https://localhost:8080/",
     "height": 52
    },
    "colab_type": "code",
    "id": "WU3FJeeIWN8G",
    "outputId": "78c97326-d0c0-4886-c909-34798f09fa40"
   },
   "outputs": [],
   "source": [
    "odd_nums_deque.rotate(-1)\n",
    "print(\"after negative rotations:\")\n",
    "print(odd_nums_deque)"
   ]
  },
  {
   "cell_type": "code",
   "execution_count": null,
   "metadata": {
    "colab": {
     "base_uri": "https://localhost:8080/",
     "height": 34
    },
    "colab_type": "code",
    "id": "oEu0o828KFKy",
    "outputId": "67d0b42d-ebec-44e3-b41b-49144a1ef503"
   },
   "outputs": [],
   "source": [
    "print(\"Deque length: %d\"%(len(odd_nums_deque)))"
   ]
  },
  {
   "cell_type": "code",
   "execution_count": null,
   "metadata": {
    "colab": {
     "base_uri": "https://localhost:8080/",
     "height": 70
    },
    "colab_type": "code",
    "id": "eYcNOBeRPgkG",
    "outputId": "82721870-ca82-42a8-9382-da362422c8b3"
   },
   "outputs": [],
   "source": [
    "odd_nums_deque.clear()\n",
    "print(\"Deque object after removing all numbers-\")\n",
    "print(odd_nums_deque)\n",
    "print(\"Deque length:%d\"%(len(odd_nums_deque)))"
   ]
  },
  {
   "cell_type": "code",
   "execution_count": null,
   "metadata": {
    "colab": {
     "base_uri": "https://localhost:8080/",
     "height": 70
    },
    "colab_type": "code",
    "id": "FiN7u1qzPgZX",
    "outputId": "edf5ff76-3362-4446-efab-06c5e9aa9cc5"
   },
   "outputs": [],
   "source": [
    "import collections\n",
    "from collections import Counter\n",
    "nums = (2,9,0,8,2,4,0,9,2,4,8,2,0,4,2,3,4,0,4)\n",
    "nums_dq = collections.deque(nums)\n",
    "print(nums_dq.count(4))"
   ]
  }
 ],
 "metadata": {
  "colab": {
   "name": "Collections Module in Python.ipynb",
   "provenance": []
  },
  "kernelspec": {
   "display_name": "Python 3",
   "language": "python",
   "name": "python3"
  },
  "language_info": {
   "codemirror_mode": {
    "name": "ipython",
    "version": 3
   },
   "file_extension": ".py",
   "mimetype": "text/x-python",
   "name": "python",
   "nbconvert_exporter": "python",
   "pygments_lexer": "ipython3",
   "version": "3.8.3"
  }
 },
 "nbformat": 4,
 "nbformat_minor": 1
}
