{
  "nbformat": 4,
  "nbformat_minor": 0,
  "metadata": {
    "kernelspec": {
      "display_name": "Python 3",
      "language": "python",
      "name": "python3"
    },
    "language_info": {
      "codemirror_mode": {
        "name": "ipython",
        "version": 3
      },
      "file_extension": ".py",
      "mimetype": "text/x-python",
      "name": "python",
      "nbconvert_exporter": "python",
      "pygments_lexer": "ipython3",
      "version": "3.8.3"
    },
    "colab": {
      "name": "Sequential, Selection _ Repetition .ipynb",
      "provenance": []
    }
  },
  "cells": [
    {
      "cell_type": "markdown",
      "metadata": {
        "id": "u167zf2KLnLF"
      },
      "source": [
        "# for loop"
      ]
    },
    {
      "cell_type": "code",
      "metadata": {
        "id": "bRUWe8lCLnLG",
        "outputId": "ab387293-190a-421d-a02a-2fb692b7d703",
        "colab": {
          "base_uri": "https://localhost:8080/",
          "height": 105
        }
      },
      "source": [
        "for x in range(5):   #range(n)= 0 to n-1 \n",
        "    print(x)"
      ],
      "execution_count": null,
      "outputs": [
        {
          "output_type": "stream",
          "text": [
            "0\n",
            "1\n",
            "2\n",
            "3\n",
            "4\n"
          ],
          "name": "stdout"
        }
      ]
    },
    {
      "cell_type": "code",
      "metadata": {
        "id": "sZuGTQXSLnLL",
        "outputId": "8a1ba3b4-50d2-452f-b970-e6a824a0cc78",
        "colab": {
          "base_uri": "https://localhost:8080/",
          "height": 70
        }
      },
      "source": [
        "for x in range(3, 6):   #range(a, n)= a to n-1 \n",
        "    print(x)"
      ],
      "execution_count": null,
      "outputs": [
        {
          "output_type": "stream",
          "text": [
            "3\n",
            "4\n",
            "5\n"
          ],
          "name": "stdout"
        }
      ]
    },
    {
      "cell_type": "code",
      "metadata": {
        "id": "QgHvjPsILnLQ",
        "outputId": "415bc682-3e2c-4d9e-e91a-21c8ed5474c1",
        "colab": {
          "base_uri": "https://localhost:8080/",
          "height": 122
        }
      },
      "source": [
        "a='Piyush'\n",
        "for x in a:   #range(a,n,gap)= a to n-a with gap\n",
        "    print(x)\n",
        "    # 3 to 7 but one value will be skip"
      ],
      "execution_count": null,
      "outputs": [
        {
          "output_type": "stream",
          "text": [
            "P\n",
            "i\n",
            "y\n",
            "u\n",
            "s\n",
            "h\n"
          ],
          "name": "stdout"
        }
      ]
    },
    {
      "cell_type": "markdown",
      "metadata": {
        "id": "mG1sJBQnLnLT"
      },
      "source": [
        "# if elif else"
      ]
    },
    {
      "cell_type": "code",
      "metadata": {
        "id": "c0GE5rN5LnLU",
        "outputId": "ed5a23a0-e58e-4fb1-852e-2d493b1999d0",
        "colab": {
          "base_uri": "https://localhost:8080/",
          "height": 34
        }
      },
      "source": [
        "i=1\n",
        "\n",
        "if i==2:    #false\n",
        "    print('first')\n",
        "\n",
        "elif 4==2:  #false\n",
        "    print('second')\n",
        "\n",
        "elif 3==1: #false\n",
        "    print('middle')\n",
        "    \n",
        "else:\n",
        "    print('last')"
      ],
      "execution_count": null,
      "outputs": [
        {
          "output_type": "stream",
          "text": [
            "last\n"
          ],
          "name": "stdout"
        }
      ]
    },
    {
      "cell_type": "markdown",
      "metadata": {
        "id": "1tb8h4hfLnLW"
      },
      "source": [
        "# While Loop"
      ]
    },
    {
      "cell_type": "code",
      "metadata": {
        "id": "W1vePnUuLnLX",
        "outputId": "20bb5e0c-6dc2-44a2-df2c-c7ef1eef8c1c",
        "colab": {
          "base_uri": "https://localhost:8080/",
          "height": 87
        }
      },
      "source": [
        "i = 1\n",
        "while i < 5:\n",
        "    print(i)\n",
        "    i = i+1"
      ],
      "execution_count": null,
      "outputs": [
        {
          "output_type": "stream",
          "text": [
            "1\n",
            "2\n",
            "3\n",
            "4\n"
          ],
          "name": "stdout"
        }
      ]
    },
    {
      "cell_type": "markdown",
      "metadata": {
        "id": "BRPz8MamS2n4"
      },
      "source": [
        "#break"
      ]
    },
    {
      "cell_type": "code",
      "metadata": {
        "id": "q-MtoaGMLnLZ",
        "outputId": "1d79e669-67d9-469c-a1f4-7dc7c4f3f893",
        "colab": {
          "base_uri": "https://localhost:8080/",
          "height": 122
        }
      },
      "source": [
        "count = 0\n",
        "\n",
        "while True:   #infinite\n",
        "    print(count)    \n",
        "    count += 1    \n",
        "    if count >= 5:        \n",
        "        break\n",
        "\n",
        "print(\"MHM\")\n"
      ],
      "execution_count": null,
      "outputs": [
        {
          "output_type": "stream",
          "text": [
            "0\n",
            "1\n",
            "2\n",
            "3\n",
            "4\n",
            "MHM\n"
          ],
          "name": "stdout"
        }
      ]
    },
    {
      "cell_type": "markdown",
      "metadata": {
        "id": "ObY8p72dLnLf"
      },
      "source": [
        "# Continue"
      ]
    },
    {
      "cell_type": "code",
      "metadata": {
        "id": "WgFCnselLnLh",
        "outputId": "bf8949e7-d693-47bd-fba8-8709ecaca15d",
        "colab": {
          "base_uri": "https://localhost:8080/",
          "height": 105
        }
      },
      "source": [
        "for x in range(10):\n",
        "    if x % 2 != 0:\n",
        "        continue\n",
        "    print(x)"
      ],
      "execution_count": null,
      "outputs": [
        {
          "output_type": "stream",
          "text": [
            "0\n",
            "2\n",
            "4\n",
            "6\n",
            "8\n"
          ],
          "name": "stdout"
        }
      ]
    },
    {
      "cell_type": "code",
      "metadata": {
        "id": "sujl_foVLnLm",
        "outputId": "bed78785-5ccf-4002-bfef-b801ab58616e",
        "colab": {
          "base_uri": "https://localhost:8080/",
          "height": 193
        }
      },
      "source": [
        "for var in range(1,16):    #1 to 15\n",
        "    if(var in range(9,14)):   #9 to 13\n",
        "        continue\n",
        "    else:\n",
        "        print(var)    #1,2,3,4,5,6,7,8,14,15"
      ],
      "execution_count": null,
      "outputs": [
        {
          "output_type": "stream",
          "text": [
            "1\n",
            "2\n",
            "3\n",
            "4\n",
            "5\n",
            "6\n",
            "7\n",
            "8\n",
            "14\n",
            "15\n"
          ],
          "name": "stdout"
        }
      ]
    }
  ]
}