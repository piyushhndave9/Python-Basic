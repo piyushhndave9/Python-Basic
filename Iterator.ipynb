{
  "nbformat": 4,
  "nbformat_minor": 0,
  "metadata": {
    "colab": {
      "name": "Python Iterator.ipynb",
      "provenance": []
    },
    "kernelspec": {
      "display_name": "Python 3",
      "language": "python",
      "name": "python3"
    },
    "language_info": {
      "codemirror_mode": {
        "name": "ipython",
        "version": 3
      },
      "file_extension": ".py",
      "mimetype": "text/x-python",
      "name": "python",
      "nbconvert_exporter": "python",
      "pygments_lexer": "ipython3",
      "version": "3.8.3"
    }
  },
  "cells": [
    {
      "cell_type": "markdown",
      "metadata": {
        "id": "FZSeiK0zcTB3"
      },
      "source": [
        "# An iterator in Python programming language is an object which you can iterate upon. That is, it returns one object at a time. \n",
        "\n",
        "Python Iterator, implicitly implemented in constructs like for-loops\n",
        "\n",
        "The iter() and next() functions collectively form the iterator protocol"
      ]
    },
    {
      "cell_type": "code",
      "metadata": {
        "id": "vDWmL0pfbSb0"
      },
      "source": [
        "evens=[2,4,6,8,10]\n",
        "for x in evens:\n",
        "  print(x)"
      ],
      "execution_count": null,
      "outputs": []
    },
    {
      "cell_type": "code",
      "metadata": {
        "id": "qbKy-cwrckZp"
      },
      "source": [
        "evens=[2,4,6,8,10]  #List "
      ],
      "execution_count": null,
      "outputs": []
    },
    {
      "cell_type": "code",
      "metadata": {
        "id": "yC8Y0dzDclFE"
      },
      "source": [
        "evenIterator=iter(evens)"
      ],
      "execution_count": null,
      "outputs": []
    },
    {
      "cell_type": "code",
      "metadata": {
        "id": "MS7PMCulck9Z"
      },
      "source": [
        "next(evenIterator)"
      ],
      "execution_count": null,
      "outputs": []
    },
    {
      "cell_type": "code",
      "metadata": {
        "id": "3ZixngBtck5G"
      },
      "source": [
        "next(evenIterator)"
      ],
      "execution_count": null,
      "outputs": []
    },
    {
      "cell_type": "code",
      "metadata": {
        "id": "htno1bJick1T"
      },
      "source": [
        "next(evenIterator)"
      ],
      "execution_count": null,
      "outputs": []
    },
    {
      "cell_type": "code",
      "metadata": {
        "id": "vcNWrM3eckxU"
      },
      "source": [
        "nums=[1,2,3]"
      ],
      "execution_count": null,
      "outputs": []
    },
    {
      "cell_type": "code",
      "metadata": {
        "id": "7qsy6xhMckrf"
      },
      "source": [
        "numIter=iter(nums)"
      ],
      "execution_count": null,
      "outputs": []
    },
    {
      "cell_type": "code",
      "metadata": {
        "id": "w9m2KGCec6gz"
      },
      "source": [
        "numIter.__next__()"
      ],
      "execution_count": null,
      "outputs": []
    },
    {
      "cell_type": "code",
      "metadata": {
        "id": "m1S7yIv3c6c5"
      },
      "source": [
        "numIter.__next__()"
      ],
      "execution_count": null,
      "outputs": []
    },
    {
      "cell_type": "code",
      "metadata": {
        "id": "FlcpE99ac6Y6"
      },
      "source": [
        "numIter.__next__()"
      ],
      "execution_count": null,
      "outputs": []
    },
    {
      "cell_type": "code",
      "metadata": {
        "id": "KaMn-g9Cc6UH"
      },
      "source": [
        "name='python'\n",
        "for x in name:\n",
        "    print(x)"
      ],
      "execution_count": null,
      "outputs": []
    },
    {
      "cell_type": "code",
      "metadata": {
        "id": "lemyYD1Jc6L9"
      },
      "source": [
        "iter_obj=iter('Python')\n",
        "while True:\n",
        "    try:\n",
        "        i=next(iter_obj)\n",
        "        print(i)\n",
        "    except StopIteration:\n",
        "        break"
      ],
      "execution_count": null,
      "outputs": []
    }
  ]
}