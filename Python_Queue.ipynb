{
  "nbformat": 4,
  "nbformat_minor": 0,
  "metadata": {
    "colab": {
      "name": "Python Queue.ipynb",
      "provenance": []
    },
    "kernelspec": {
      "display_name": "Python 3",
      "language": "python",
      "name": "python3"
    },
    "language_info": {
      "codemirror_mode": {
        "name": "ipython",
        "version": 3
      },
      "file_extension": ".py",
      "mimetype": "text/x-python",
      "name": "python",
      "nbconvert_exporter": "python",
      "pygments_lexer": "ipython3",
      "version": "3.8.3"
    }
  },
  "cells": [
    {
      "cell_type": "markdown",
      "metadata": {
        "id": "UGuGS5-3bjf-"
      },
      "source": [
        "# A queue is a container that holds data. The data that is entered first will be removed first, and hence a queue is also called \"First in First Out\" (FIFO). The queue has two ends front and rear. The items are entered from the rear and removed from the front side."
      ]
    },
    {
      "cell_type": "code",
      "metadata": {
        "id": "HKlwfiK-bioy"
      },
      "source": [
        "import queue"
      ],
      "execution_count": null,
      "outputs": []
    },
    {
      "cell_type": "code",
      "metadata": {
        "id": "Kfu7l4ehmHbd"
      },
      "source": [
        "q1 = queue.Queue()"
      ],
      "execution_count": null,
      "outputs": []
    },
    {
      "cell_type": "code",
      "metadata": {
        "id": "dKpUckOib5Zk"
      },
      "source": [
        "q1.put(10)"
      ],
      "execution_count": null,
      "outputs": []
    },
    {
      "cell_type": "code",
      "metadata": {
        "id": "Tjvc30bLl_FR"
      },
      "source": [
        "q1.put(20)"
      ],
      "execution_count": null,
      "outputs": []
    },
    {
      "cell_type": "code",
      "metadata": {
        "id": "ZehkImyZb5VP"
      },
      "source": [
        "item1 = q1.get()\n",
        "item1"
      ],
      "execution_count": null,
      "outputs": []
    },
    {
      "cell_type": "code",
      "metadata": {
        "id": "ALB-3deMmDhv"
      },
      "source": [
        "q1 = queue.Queue()"
      ],
      "execution_count": null,
      "outputs": []
    },
    {
      "cell_type": "code",
      "metadata": {
        "id": "JLkXThqhb5QT"
      },
      "source": [
        "for i in range(20):\n",
        "    q1.put(i)"
      ],
      "execution_count": null,
      "outputs": []
    },
    {
      "cell_type": "code",
      "metadata": {
        "id": "f__H2Erub5L3"
      },
      "source": [
        "item1 = q1.get()\n",
        "item1"
      ],
      "execution_count": null,
      "outputs": []
    },
    {
      "cell_type": "code",
      "metadata": {
        "id": "YMo26H8CmL3r"
      },
      "source": [
        "for i in range(20):\n",
        "    q1.put(i)"
      ],
      "execution_count": null,
      "outputs": []
    },
    {
      "cell_type": "code",
      "metadata": {
        "id": "PjB9--Y1b5HL"
      },
      "source": [
        "while not q1.empty():\n",
        "    print(\"The value is \", q1.get())"
      ],
      "execution_count": null,
      "outputs": []
    },
    {
      "cell_type": "code",
      "metadata": {
        "id": "Vd0_YMYob5Bl"
      },
      "source": [
        "q2 = queue.LifoQueue()"
      ],
      "execution_count": null,
      "outputs": []
    },
    {
      "cell_type": "code",
      "metadata": {
        "id": "rkIJP3dWmUqV"
      },
      "source": [
        "q2.put(10)"
      ],
      "execution_count": null,
      "outputs": []
    },
    {
      "cell_type": "code",
      "metadata": {
        "id": "dSx17GXxmW45"
      },
      "source": [
        "q2.put(20)"
      ],
      "execution_count": null,
      "outputs": []
    },
    {
      "cell_type": "code",
      "metadata": {
        "id": "zGME1m9FmY7K"
      },
      "source": [
        "item1 = q2.get()\n",
        "item1"
      ],
      "execution_count": null,
      "outputs": []
    },
    {
      "cell_type": "code",
      "metadata": {
        "id": "Y6ZMh5VmmcE1"
      },
      "source": [
        "q2 = queue.LifoQueue()"
      ],
      "execution_count": null,
      "outputs": []
    },
    {
      "cell_type": "code",
      "metadata": {
        "id": "aZk5DCaud3Rx"
      },
      "source": [
        "for i in range(20):\n",
        "    q2.put(i)"
      ],
      "execution_count": null,
      "outputs": []
    },
    {
      "cell_type": "code",
      "metadata": {
        "id": "tTsXnlQzd3OC"
      },
      "source": [
        "item1 = q2.get()\n",
        "item1"
      ],
      "execution_count": null,
      "outputs": []
    },
    {
      "cell_type": "code",
      "metadata": {
        "id": "enqvVigImRke"
      },
      "source": [
        "for i in range(20):\n",
        "    q2.put(i)"
      ],
      "execution_count": null,
      "outputs": []
    },
    {
      "cell_type": "code",
      "metadata": {
        "id": "_AFK330ld3I2"
      },
      "source": [
        "while not q2.empty():\n",
        "    print(\"The value is \", q2.get())"
      ],
      "execution_count": null,
      "outputs": []
    }
  ]
}